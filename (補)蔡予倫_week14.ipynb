{
  "nbformat": 4,
  "nbformat_minor": 0,
  "metadata": {
    "colab": {
      "name": "(補)蔡予倫-week14.ipynb",
      "provenance": [],
      "collapsed_sections": [],
      "authorship_tag": "ABX9TyPv6G1QtNILderEW+LQ4aZ6",
      "include_colab_link": true
    },
    "kernelspec": {
      "name": "python3",
      "display_name": "Python 3"
    },
    "language_info": {
      "name": "python"
    }
  },
  "cells": [
    {
      "cell_type": "markdown",
      "metadata": {
        "id": "view-in-github",
        "colab_type": "text"
      },
      "source": [
        "<a href=\"https://colab.research.google.com/github/a109010003/Computational-Thinking-and-Programming-Design/blob/main/(%E8%A3%9C)%E8%94%A1%E4%BA%88%E5%80%AB_week14.ipynb\" target=\"_parent\"><img src=\"https://colab.research.google.com/assets/colab-badge.svg\" alt=\"Open In Colab\"/></a>"
      ]
    },
    {
      "cell_type": "code",
      "metadata": {
        "colab": {
          "base_uri": "https://localhost:8080/"
        },
        "id": "BUdaHTmW7z8D",
        "outputId": "c13829ac-ac62-4e26-8236-f33ef745c96d"
      },
      "source": [
        "my_choice=int(input(\"請出拳[0]蟲[1]雞[2]老虎[3]棒子\"))\n",
        "print('你出的拳:',my_choice)\n",
        "import random\n",
        "com_choice=random.randint(0,3)\n",
        "print(\"電腦出拳為\",com_choice)\n",
        "if my_choice==((com_choice+1))%4:\n",
        "  print(\"我贏了\")\n",
        "elif com_choice==(my_choice+1)%4:\n",
        "  print(\"電腦贏了\")\n",
        "else:\n",
        "  print(\"平手\")"
      ],
      "execution_count": 32,
      "outputs": [
        {
          "output_type": "stream",
          "text": [
            "請出拳[0]蟲[1]雞[2]老虎[3]棒子1\n",
            "你出的拳: 1\n",
            "電腦出拳為 1\n",
            "平手\n"
          ],
          "name": "stdout"
        }
      ]
    }
  ]
}