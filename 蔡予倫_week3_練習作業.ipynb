{
  "nbformat": 4,
  "nbformat_minor": 0,
  "metadata": {
    "colab": {
      "name": "蔡予倫-week3-練習作業",
      "provenance": [],
      "authorship_tag": "ABX9TyP5xpfMsHKL7E/AGQHPqRZS",
      "include_colab_link": true
    },
    "kernelspec": {
      "name": "python3",
      "display_name": "Python 3"
    }
  },
  "cells": [
    {
      "cell_type": "markdown",
      "metadata": {
        "id": "view-in-github",
        "colab_type": "text"
      },
      "source": [
        "<a href=\"https://colab.research.google.com/github/a109010003/Computational-Thinking-and-Programming-Design/blob/main/%E8%94%A1%E4%BA%88%E5%80%AB_week3_%E7%B7%B4%E7%BF%92%E4%BD%9C%E6%A5%AD.ipynb\" target=\"_parent\"><img src=\"https://colab.research.google.com/assets/colab-badge.svg\" alt=\"Open In Colab\"/></a>"
      ]
    },
    {
      "cell_type": "markdown",
      "metadata": {
        "id": "i0rcbeG_Nsec"
      },
      "source": [
        "#隨堂練習"
      ]
    },
    {
      "cell_type": "code",
      "metadata": {
        "id": "VPT9NVKQNxOU"
      },
      "source": [
        ""
      ],
      "execution_count": null,
      "outputs": []
    },
    {
      "cell_type": "markdown",
      "metadata": {
        "id": "vi7eVxUzWaYO"
      },
      "source": [
        "1 電腦主要是由硬體與軟體兩部分，構成電腦系統架構，可以提供使⽤者\r\n",
        "2 四個基本單位 \r\n",
        "⼤多數的電腦，通常都具備了負責思考的⼤腦，協助思考的記憶、储存東⻄的空間，與都可以輸 入與輸出的功能。\r\n",
        "電腦硬體的基本組成包括下列列四個單元：\r\n",
        "輸入單元(input unit)處理單元(processing unit)記憶單元 (memory unit)輸出單元(output unit)\r\n",
        "3 運算思維是⼀種思考過程，是⼀個思考的程序。它的⽬的是闡明問題，並呈現其解決⽅案，讓「運算器」(機器 與⼈) 能夠有效率地執⾏。\r\n",
        "4 運算思維的四個基石 - 問題拆解 ＝> 模式辨識 ＝> 抽象化 ＝> 演算法\r\n",
        "5 ⽤電腦解決問題的四個階段 \r\n",
        "階段⼀：Analysis - 運算思維。 階段⼆ : Design - 程式設計。 階段三：Coding - 撰寫程式。 階段四：Testing - 測試與除錯\r\n",
        "\r\n"
      ]
    },
    {
      "cell_type": "markdown",
      "metadata": {
        "id": "OneCoveIOoD0"
      },
      "source": [
        "#課後練習"
      ]
    },
    {
      "cell_type": "code",
      "metadata": {
        "id": "jPNouocoOrWj"
      },
      "source": [
        ""
      ],
      "execution_count": null,
      "outputs": []
    },
    {
      "cell_type": "markdown",
      "metadata": {
        "id": "_suIBQhfO01L"
      },
      "source": [
        "從一則新聞報導，提出你對新聞系（OO系）學生為什麼要學「運算思維與程式設計」的見解。（告訴我新聞連結，以及你的觀點即可。）"
      ]
    },
    {
      "cell_type": "code",
      "metadata": {
        "id": "zhlHZT1yO1oi"
      },
      "source": [
        ""
      ],
      "execution_count": null,
      "outputs": []
    },
    {
      "cell_type": "markdown",
      "metadata": {
        "id": "Vno_1qMvUCqJ"
      },
      "source": [
        "https://udn.com/news/story/6904/4486806寫作教室／用「運算思維」 學邏輯思考提升寫作力\r\n",
        "  運算思維指的是-運用運算工具的思維能力，我們可以利用做程式設計期間的邏輯思考，去培養我們邏輯思維的能力。而寫作中，文章的架構及邏輯是相當重要的。作為新聞系的學生，我們時常需要去寫新聞稿，而學習運算思維與程式設計，建構邏輯思考能力，也相對提升我們的寫作能力。"
      ]
    }
  ]
}