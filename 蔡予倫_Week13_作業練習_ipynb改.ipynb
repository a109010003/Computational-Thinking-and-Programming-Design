{
  "nbformat": 4,
  "nbformat_minor": 0,
  "metadata": {
    "kernelspec": {
      "display_name": "Python 3",
      "language": "python",
      "name": "python3"
    },
    "language_info": {
      "codemirror_mode": {
        "name": "ipython",
        "version": 3
      },
      "file_extension": ".py",
      "mimetype": "text/x-python",
      "name": "python",
      "nbconvert_exporter": "python",
      "pygments_lexer": "ipython3",
      "version": "3.8.5"
    },
    "colab": {
      "name": "蔡予倫-Week13-作業練習.ipynb改",
      "provenance": [],
      "include_colab_link": true
    }
  },
  "cells": [
    {
      "cell_type": "markdown",
      "metadata": {
        "id": "view-in-github",
        "colab_type": "text"
      },
      "source": [
        "<a href=\"https://colab.research.google.com/github/a109010003/Computational-Thinking-and-Programming-Design/blob/main/%E8%94%A1%E4%BA%88%E5%80%AB_Week13_%E4%BD%9C%E6%A5%AD%E7%B7%B4%E7%BF%92_ipynb%E6%94%B9.ipynb\" target=\"_parent\"><img src=\"https://colab.research.google.com/assets/colab-badge.svg\" alt=\"Open In Colab\"/></a>"
      ]
    },
    {
      "cell_type": "markdown",
      "metadata": {
        "id": "8cda_nU8kq2V"
      },
      "source": [
        "**隨堂練習1： BMI 計算**\n",
        "\n",
        "請寫一個程式讓使用者輸入身高與體重，顯示BMI 值與肥胖程度。 BMI 等於體重（KG）除以身高（M）的平方，而BMI 與肥胖分類標準如下：\n",
        "\n",
        "若BMI 值小於18，則顯示「體重過輕」，否則若BMI 值小於24，則顯示「體重正常」，若BMI 值小於27，則顯示「體重過重」，否則顯示「體重肥胖」。"
      ]
    },
    {
      "cell_type": "code",
      "metadata": {
        "colab": {
          "base_uri": "https://localhost:8080/"
        },
        "id": "pmiHxQvPkq2W",
        "outputId": "0706ad40-0528-46ab-f1d8-d480af2cfebd"
      },
      "source": [
        "w=float(input(\"請輸入體重(KG)?\"))\n",
        "h=float(input(\"請輸入身高(M)?\"))\n",
        "bmi=w/(h*h)\n",
        "print(\"BMI為\",bmi)\n",
        "if bmi<18:\n",
        "  print(\"體重過輕\")\n",
        "elif bmi<24:\n",
        "  print(\"體重正常\")  \n",
        "elif bmi<27:\n",
        "  print(\"體重過重\")\n",
        "else:\n",
        "  print(\"體重肥胖\")  "
      ],
      "execution_count": null,
      "outputs": [
        {
          "output_type": "stream",
          "text": [
            "請輸入體重70\n",
            "請輸入身高1.72\n",
            "BMI為 23.661438615467823\n",
            "體重正常\n"
          ],
          "name": "stdout"
        }
      ]
    },
    {
      "cell_type": "markdown",
      "metadata": {
        "id": "WuLXySVykq2X"
      },
      "source": [
        "**隨堂練習2： 三一律(單向選擇、雙向與巢狀選擇、多向選擇)**\n",
        "\n",
        "請輸入一個數，然後判斷這個數是正數、是負數或者是零。"
      ]
    },
    {
      "cell_type": "code",
      "metadata": {
        "id": "BAuAoc03kq2X",
        "colab": {
          "base_uri": "https://localhost:8080/"
        },
        "outputId": "636c5697-b1df-4d15-9ba3-c051935058e5"
      },
      "source": [
        "num=int(input(\"Pick a number:\"))\n",
        "if num>0:\n",
        "  print(\"Your nmber is positive.\")\n",
        "if num<0:\n",
        "  print(\"Your number is negative.\")\n",
        "\n",
        "print(\"Finished\")    "
      ],
      "execution_count": 16,
      "outputs": [
        {
          "output_type": "stream",
          "text": [
            "Pick a number:1\n",
            "Your nmber is positive.\n",
            "Finished\n"
          ],
          "name": "stdout"
        }
      ]
    },
    {
      "cell_type": "markdown",
      "metadata": {
        "id": "k05xKZ1Tkq2X"
      },
      "source": [
        "**練習5   體溫與發燒**\n",
        "\n",
        "設計程式根據體溫判斷是否發燒，由使用者輸入體溫，程式判斷是否發燒，假設體溫小於36度，顯示「體溫過低」，體溫大於等於36度小於38度，顯示「體溫正常」，否則若體溫大於等於38度小於39度，顯示「體溫有點燒」，否則體溫大於等於39度，顯示「體溫很燒」。\n",
        "\n",
        "輸入體溫「36.5」，輸出為「體溫正常」。\n",
        "\n",
        "～程式執行結果如下。\n",
        "\n",
        "請輸入體溫？36.5\n",
        "\n",
        "體溫正常"
      ]
    },
    {
      "cell_type": "code",
      "metadata": {
        "colab": {
          "base_uri": "https://localhost:8080/"
        },
        "id": "FOFBYzJXkq2Y",
        "outputId": "9832981f-c864-4ae3-d2bf-8d28f38c3624"
      },
      "source": [
        "tem= float(input(\"體溫\"))\n",
        "if tem <36:\n",
        "  print(\"體溫過低\")\n",
        "elif tem <38:\n",
        "  print(\"體溫正常\")\n",
        "elif tem <39:\n",
        "  print(\"體溫有點燒\")  \n",
        "else:\n",
        "  print(\"體溫很燒\")"
      ],
      "execution_count": null,
      "outputs": [
        {
          "output_type": "stream",
          "text": [
            "體溫39\n",
            "體溫很燒\n"
          ],
          "name": "stdout"
        }
      ]
    },
    {
      "cell_type": "markdown",
      "metadata": {
        "id": "P_Nmk89Skq2Y"
      },
      "source": [
        "**練習6  閏年判斷**\n",
        "\n",
        "設計程式允許輸入西元幾年，請求出該年是否是閏年，閏年表示該年多一天，若為4的倍數稱做閏年，但若為100的倍數就不為閏年，且若為400倍數又是閏年。(四年一潤、百年不潤、四百年再潤)\n",
        "\n",
        "輸入年份「2012」，輸出為「2012是閏年」。\n",
        "\n",
        "～程式執行結果如下。\n",
        "\n",
        "請輸入年份？2012\n",
        "\n",
        "2012 是閏年"
      ]
    },
    {
      "cell_type": "code",
      "metadata": {
        "id": "LUcUarmjkq2Z",
        "colab": {
          "base_uri": "https://localhost:8080/"
        },
        "outputId": "39e16054-f25a-4aed-b1db-de6f959e3185"
      },
      "source": [
        "year=int(input(\"輸入年份\"))\n",
        "if ((year%400)==0):\n",
        "  print(year,\"是閏年\")\n",
        "if ((year%100)==0):\n",
        "  print(year,\"不是閏年\")\n",
        "if ((year%4)==0):\n",
        "  print(year,\"是閏年\")\n",
        "else:\n",
        "  print(year,\"不是閏年\")"
      ],
      "execution_count": 27,
      "outputs": [
        {
          "output_type": "stream",
          "text": [
            "輸入年份2930\n",
            "2930 不是閏年\n"
          ],
          "name": "stdout"
        }
      ]
    },
    {
      "cell_type": "markdown",
      "metadata": {
        "id": "jE_Bwsxukq2Z"
      },
      "source": [
        "**練習12：計程車計費**\n",
        "\n",
        "某城市計程車計費3公里以內6元，超過3公里不足10公里、每公里1.8元，超過10公里則超過部分加收50%。此外停車等候每3分鐘收1元，請用Python寫出車費是多少。"
      ]
    },
    {
      "cell_type": "code",
      "metadata": {
        "id": "xXNWEh_1kq2a",
        "colab": {
          "base_uri": "https://localhost:8080/"
        },
        "outputId": "a6d21b80-765f-4b62-c7b6-2fb0e141ba66"
      },
      "source": [
        "time=int(input(\"Enter your time:\"))\n",
        "long=int(input(\"How long (km):\"))\n",
        "if long<3:\n",
        "  print(6+round(time/3))\n",
        "if 3<long<10:\n",
        "  print(long*1.8+round(time/3))\n",
        "if long>10:\n",
        "  print(long*1.8+(long-10)*0.5+round(time/3))  "
      ],
      "execution_count": 36,
      "outputs": [
        {
          "output_type": "stream",
          "text": [
            "Enter your time:3\n",
            "How long (km):13\n",
            "25.900000000000002\n"
          ],
          "name": "stdout"
        }
      ]
    },
    {
      "cell_type": "code",
      "metadata": {
        "id": "_WyXCpDxkq2a",
        "colab": {
          "base_uri": "https://localhost:8080/"
        },
        "outputId": "a22cba4e-fd03-4177-9e39-45c8e6fa8ce1"
      },
      "source": [
        "time=int(input(\"Enter your time:\"))\n",
        "long=int(input(\"How long (km):\"))\n",
        "if long<3:\n",
        "  print(6+time%3)\n",
        "if 3<long<10:\n",
        "  print(long*1.8+time%3)\n",
        "if long>10:\n",
        "  print(long*1.8+(long-10)*0.5+time%3)  "
      ],
      "execution_count": 35,
      "outputs": [
        {
          "output_type": "stream",
          "text": [
            "Enter your time:3\n",
            "How long (km):17\n",
            "34.1\n"
          ],
          "name": "stdout"
        }
      ]
    }
  ]
}